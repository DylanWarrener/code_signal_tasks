{
  "nbformat": 4,
  "nbformat_minor": 0,
  "metadata": {
    "colab": {
      "name": "intro.ipynb",
      "provenance": [],
      "collapsed_sections": [],
      "include_colab_link": true
    },
    "kernelspec": {
      "name": "python3",
      "display_name": "Python 3"
    }
  },
  "cells": [
    {
      "cell_type": "markdown",
      "metadata": {
        "id": "view-in-github",
        "colab_type": "text"
      },
      "source": [
        "<a href=\"https://colab.research.google.com/github/DylanWarrener/code_signal_tasks_python/blob/master/intro.ipynb\" target=\"_parent\"><img src=\"https://colab.research.google.com/assets/colab-badge.svg\" alt=\"Open In Colab\"/></a>"
      ]
    },
    {
      "cell_type": "markdown",
      "metadata": {
        "id": "LlDAxDfjJTom"
      },
      "source": [
        "## ***THE JOURNEY BEGINS***"
      ]
    },
    {
      "cell_type": "markdown",
      "metadata": {
        "id": "871ti2bBBtzC"
      },
      "source": [
        "**Task 1 - Add:** Write a function that returns the sum of two numbers. For example, for param1 = 1 and param2 = 2, the output should be add(param1, param2) = 3.\r\n",
        "\r\n",
        "**[input]** - integer \r\n",
        "**[output]** - integer"
      ]
    },
    {
      "cell_type": "code",
      "metadata": {
        "id": "MvXAnJd4DEVr"
      },
      "source": [
        "def add(param1, param2):\r\n",
        "  return param1 + param2"
      ],
      "execution_count": 1,
      "outputs": []
    },
    {
      "cell_type": "markdown",
      "metadata": {
        "id": "v0d1ZLl0EKxf"
      },
      "source": [
        "**Task 2 - Century from Year:** Given a year, return the century it is in. The first century spans from the year 1 up to and including the year 100, the second - from the year 101 up to and including the year 200, etc. \r\n",
        "\r\n",
        "For example, for year = 1905, the output should be centuryFromYear(year) = 20; For year = 1700, the output should be centuryFromYear(year) = 17.\r\n",
        "\r\n",
        "**[input]** - integer **[output]** - integer"
      ]
    },
    {
      "cell_type": "code",
      "metadata": {
        "id": "iDNYnp2jEK71"
      },
      "source": [
        "import math\r\n",
        "\r\n",
        "def centuryFromYear(year):\r\n",
        "  if 1 <= year <= 2005:\r\n",
        "    return int(math.ceil(year / 100.0))\r\n",
        "  else:\r\n",
        "    return "
      ],
      "execution_count": 2,
      "outputs": []
    },
    {
      "cell_type": "markdown",
      "metadata": {
        "id": "0BrKQfSwELA_"
      },
      "source": [
        "**Task 3 - Check palindrome:** Given the string, check if it is a palindrome. For example, for inputString = \"aabaa\", the output should be checkPalindrome(inputString) = true;\r\n",
        "\r\n",
        "For inputString = \"abac\", the output should be checkPalindrome(inputString) = false;\r\n",
        "\r\n",
        "For inputString = \"a\", the output should be checkPalindrome(inputString) = true.\r\n",
        "\r\n",
        "**[input]** - string **[output]** - boolean"
      ]
    },
    {
      "cell_type": "code",
      "metadata": {
        "id": "IPscDkhbELNX"
      },
      "source": [
        "def checkPalindrome(inputString):\r\n",
        "  if inputString[::-1] == inputString:\r\n",
        "    return True\r\n",
        "  else:\r\n",
        "    return False"
      ],
      "execution_count": 3,
      "outputs": []
    },
    {
      "cell_type": "markdown",
      "metadata": {
        "id": "_YOuohPRJf_R"
      },
      "source": [
        "## ***EDGE OF THE OCEAN***"
      ]
    },
    {
      "cell_type": "markdown",
      "metadata": {
        "id": "dnBVw2j2ELR5"
      },
      "source": [
        "**Task 4 - Adjacent elements product:** Given an array of integers, find the pair of adjacent elements that has the largest product and return that product.\r\n",
        "\r\n",
        "For example, for inputArray = [3, 6, -2, -5, 7, 3], the output should be adjacentElementsProduct(inputArray) = 21.\r\n",
        "\r\n",
        "7 and 3 produce the largest product.\r\n",
        "\r\n",
        "**[input]** - array **[output]** - integer"
      ]
    },
    {
      "cell_type": "code",
      "metadata": {
        "id": "Nt4IshLfELV6"
      },
      "source": [
        "def adjacentElementsProduct(inputArray):\r\n",
        "  numbers = [inputArray[i] * inputArray[i + 1] for i in range(len(inputArray) - 1)]\r\n",
        "  return max(numbers)"
      ],
      "execution_count": 4,
      "outputs": []
    },
    {
      "cell_type": "markdown",
      "metadata": {
        "id": "Oy77NkvsELZK"
      },
      "source": [
        "**Task 5 - Shape area:** Your task is to find the area of a polygon for a given n. A 1-interesting polygon is just a square with a side of length 1. An n-interesting polygon is obtained by taking the n - 1-interesting polygon and appending 1-interesting polygons to its rim, side by side. You can see the 1-, 2-, 3- and 4 - interesting polygons in the picture below.\r\n",
        "\r\n",
        "![shape.PNG](data:image/png;base64,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)\r\n",
        "\r\n",
        "For example, for n = 2, the output should be shapeArea(n) = 5; and for n = 3, the output should be shapeArea(n) = 13.\r\n",
        "\r\n",
        "**[input]** - integer **[output]** - integer"
      ]
    },
    {
      "cell_type": "code",
      "metadata": {
        "id": "ygqp9wbxELcS"
      },
      "source": [
        "def shapeArea(n):\r\n",
        "  if n == 1:\r\n",
        "    return 1\r\n",
        "  else:\r\n",
        "    return (n * n) + ((n - 1) * (n - 1))"
      ],
      "execution_count": 5,
      "outputs": []
    },
    {
      "cell_type": "markdown",
      "metadata": {
        "id": "N83l9nJOJn5N"
      },
      "source": [
        "**Task 6 - Make array consecutive 2:** Ratiorg got statues of different sizes as a present from CodeMaster for his birthday, each statue having an non-negative integer size. Since he likes to make things perfect, he wants to arrange them from smallest to largest so that each statue will be bigger than the previous one exactly by 1. He may need some additional statues to be able to accomplish that. Help him figure out the minimum number of additional statues needed.\r\n",
        "\r\n",
        "For statues = [6, 2, 3, 8], the output should be makeArrayConsecutive2(statues) = 3. Ratiorg needs statues of sizes 4, 5 and 7.\r\n",
        "\r\n",
        "**[input]** - array.integer **[output]** - integer"
      ]
    },
    {
      "cell_type": "code",
      "metadata": {
        "id": "TGMOjDd6JneJ"
      },
      "source": [
        "def makeArrayConsecutive2(statues):\r\n",
        "  times_added = 0\r\n",
        "  for number in range(min(statues), max(statues)):\r\n",
        "    if number not in statues:\r\n",
        "      statues.append(number)\r\n",
        "      times_added += 1\r\n",
        "    else: \r\n",
        "      continue\r\n",
        "  statues.sort()\r\n",
        "  return times_added"
      ],
      "execution_count": 6,
      "outputs": []
    },
    {
      "cell_type": "markdown",
      "metadata": {
        "id": "9Fj-OqiMAKK8"
      },
      "source": [
        "**Task 7 - Almost incresing sequence:** Given a sequence of integers as an array, determine whether it is possible to obtain a strictly increasing sequence by removing no more than one element from the array.\r\n",
        "\r\n",
        "Note: sequence a0, a1, ..., an is considered to be a strictly increasing if a0 < a1 < ... < an. Sequence containing only one element is also considered to be strictly increasing.\r\n",
        "\r\n",
        "For sequence = [1, 3, 2, 1], the output should be\r\n",
        "almostIncreasingSequence(sequence) = false. There is no one element in this array that can be removed in order to get a strictly increasing sequence.\r\n",
        "\r\n",
        "For sequence = [1, 3, 2], the output should be\r\n",
        "almostIncreasingSequence(sequence) = true.\r\n",
        "\r\n",
        "You can remove 3 from the array to get the strictly increasing sequence [1, 2]. Alternately, you can remove 2 to get the strictly increasing sequence [1, 3].For statues = [6, 2, 3, 8], the output should be makeArrayConsecutive2(statues) = 3. Ratiorg needs statues of sizes 4, 5 and 7.\r\n",
        "\r\n",
        "**[input]** - array.integer **[output]** - boolean"
      ]
    },
    {
      "cell_type": "code",
      "metadata": {
        "id": "qPYVQjpJAKRp"
      },
      "source": [
        "def almostIncreasingSequence(sequence):\r\n",
        "  dropped = False\r\n",
        "  mid = tail = min(sequence) - 1\r\n",
        "  for header in sequence:\r\n",
        "    if header <= mid:\r\n",
        "        if dropped:\r\n",
        "          return False\r\n",
        "        else:\r\n",
        "          dropped = True\r\n",
        "        if header <= tail:\r\n",
        "          tail = mid\r\n",
        "        elif header >= tail:\r\n",
        "          tail = mid = header\r\n",
        "    else:\r\n",
        "      tail, mid = mid, header\r\n",
        "  return True"
      ],
      "execution_count": 7,
      "outputs": []
    },
    {
      "cell_type": "markdown",
      "metadata": {
        "id": "serqMm2MITYV"
      },
      "source": [
        "**Task 8 - Matrix elements sum:** After becoming famous, the CodeBots decided to move into a new building together. Each of the rooms has a different cost, and some of them are free, but there's a rumour that all the free rooms are haunted! Since the CodeBots are quite superstitious, they refuse to stay in any of the free rooms, or any of the rooms below any of the free rooms.\r\n",
        "\r\n",
        "Given matrix, a rectangular matrix of integers, where each value represents the cost of the room, your task is to return the total sum of all rooms that are suitable for the CodeBots (ie: add up all the values that don't appear below a 0).\r\n",
        "\r\n",
        "For matrix: [\r\n",
        "  [0, 1, 1, 2], \r\n",
        "  [0, 5, 0, 0], \r\n",
        "  [2, 0, 3, 3] \r\n",
        "] \r\n",
        "\r\n",
        "The output should be matrixElementsSum(matrix) = 9.\r\n",
        "\r\n",
        "![matrix.PNG](data:image/png;base64,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)\r\n",
        "\r\n",
        "There are several haunted rooms, so we'll disregard them as well as any rooms beneath them. Thus, the answer is 1 + 5 + 1 + 2 = 9.\r\n",
        "\r\n",
        "For matrix = [ [1, 1, 1, 0], [0, 5, 0, 1], [2, 1, 3, 10] ] the output should be matrixElementsSum(matrix) = 9.\r\n",
        "\r\n",
        "![matrix 2.PNG](data:image/png;base64,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)\r\n",
        "\r\n",
        "Note: the free room in the final column makes the full column unsuitable for bots (not just the room directly beneath it). Thus, the answer is 1 + 1 + 1 + 5 + 1 = 9.\r\n",
        "\r\n",
        "**[input]** - array.array.integer matrix **[output]** - integer"
      ]
    },
    {
      "cell_type": "code",
      "metadata": {
        "id": "JuPT6-lyITiO"
      },
      "source": [
        "def matrixElementsSum(matrix):\r\n",
        "  row = len(matrix)\r\n",
        "  column = len(matrix[0])\r\n",
        "  output = 0\r\n",
        "  for c in range(column):\r\n",
        "    for r in range(row):\r\n",
        "      if matrix[r][c] != 0:\r\n",
        "        output += matrix[r][c]\r\n",
        "      else:\r\n",
        "        break\r\n",
        "  return output"
      ],
      "execution_count": null,
      "outputs": []
    },
    {
      "cell_type": "markdown",
      "metadata": {
        "id": "3Dnutd34LJgm"
      },
      "source": [
        "## ***SMOOTH SAILING***"
      ]
    },
    {
      "cell_type": "markdown",
      "metadata": {
        "id": "QFZaXqQRYjyY"
      },
      "source": [
        "**Task 10 - All longest strings:** Given an array of strings, return another array containing all of its longest strings.\r\n",
        "\r\n",
        "For example, for inputArray = [\"aba\", \"aa\", \"ad\", \"vcd\", \"aba\"].\r\n",
        "\r\n",
        "The output should be allLongestStrings(inputArray) = [\"aba\", \"vcd\", \"aba\"].\r\n",
        "\r\n",
        "**[input]** - array.array inputArray **[output]** - array.string"
      ]
    },
    {
      "cell_type": "code",
      "metadata": {
        "id": "_5vbEL_0QM6A"
      },
      "source": [
        "def allLongestStrings(inputArray):\r\n",
        "  mx = max(inputArray, key=len)\r\n",
        "  new_array = []\r\n",
        "  for elem in inputArray:\r\n",
        "    if len(elem) == len(mx):\r\n",
        "      new_array.append(elem)\r\n",
        "  return new_array"
      ],
      "execution_count": null,
      "outputs": []
    },
    {
      "cell_type": "markdown",
      "metadata": {
        "id": "9_L_3u1JZQ-1"
      },
      "source": [
        "**Task 11 - Common character count:** Given two strings, find the number of common characters between them.\r\n",
        "\r\n",
        "For s1 = \"aabcc\" and s2 = \"adcaa\", the output should be\r\n",
        "commonCharacterCount(s1, s2) = 3.\r\n",
        "\r\n",
        "Strings have 3 common characters - 2 \"a\"s and 1 \"c\".\r\n",
        "\r\n",
        "**[input]** - string s1 **[output]** - string s2"
      ]
    },
    {
      "cell_type": "code",
      "metadata": {
        "id": "ig4Crki7ZRLG"
      },
      "source": [
        ""
      ],
      "execution_count": null,
      "outputs": []
    }
  ]
}