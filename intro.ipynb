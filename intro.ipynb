{
  "nbformat": 4,
  "nbformat_minor": 0,
  "metadata": {
    "colab": {
      "name": "intro.ipynb",
      "provenance": [],
      "authorship_tag": "ABX9TyPQ655naHJvU3GreB2V/Uuf",
      "include_colab_link": true
    },
    "kernelspec": {
      "name": "python3",
      "display_name": "Python 3"
    }
  },
  "cells": [
    {
      "cell_type": "markdown",
      "metadata": {
        "id": "view-in-github",
        "colab_type": "text"
      },
      "source": [
        "<a href=\"https://colab.research.google.com/github/DylanWarrener/code_signal_tasks/blob/master/intro.ipynb\" target=\"_parent\"><img src=\"https://colab.research.google.com/assets/colab-badge.svg\" alt=\"Open In Colab\"/></a>"
      ]
    },
    {
      "cell_type": "markdown",
      "metadata": {
        "id": "LlDAxDfjJTom"
      },
      "source": [
        "## ***THE JOURNEY BEGINS***"
      ]
    },
    {
      "cell_type": "markdown",
      "metadata": {
        "id": "871ti2bBBtzC"
      },
      "source": [
        "**Task 1 - Add:** Write a function that returns the sum of two numbers. For example, for param1 = 1 and param2 = 2, the output should be add(param1, param2) = 3.\r\n",
        "\r\n",
        "**[input]** - integer \r\n",
        "**[output]** - integer"
      ]
    },
    {
      "cell_type": "code",
      "metadata": {
        "colab": {
          "base_uri": "https://localhost:8080/"
        },
        "id": "MvXAnJd4DEVr",
        "outputId": "f5d6c16b-d375-4535-bf7a-53d1b4dedafb"
      },
      "source": [
        "def add(param1, param2):\r\n",
        "  return param1 + param2\r\n",
        "\r\n",
        "print(add(1, 2))\r\n",
        "print(add(2, 2))"
      ],
      "execution_count": 3,
      "outputs": [
        {
          "output_type": "stream",
          "text": [
            "3\n",
            "4\n"
          ],
          "name": "stdout"
        }
      ]
    },
    {
      "cell_type": "markdown",
      "metadata": {
        "id": "v0d1ZLl0EKxf"
      },
      "source": [
        "**Task 2 - Century from Year:** Given a year, return the century it is in. The first century spans from the year 1 up to and including the year 100, the second - from the year 101 up to and including the year 200, etc. \r\n",
        "\r\n",
        "For example, for year = 1905, the output should be centuryFromYear(year) = 20; For year = 1700, the output should be centuryFromYear(year) = 17.\r\n",
        "\r\n",
        "**[input]** - integer **[output]** - integer"
      ]
    },
    {
      "cell_type": "code",
      "metadata": {
        "colab": {
          "base_uri": "https://localhost:8080/"
        },
        "id": "iDNYnp2jEK71",
        "outputId": "89426d43-226b-4868-d2d0-4147ed989236"
      },
      "source": [
        "import math\r\n",
        "\r\n",
        "def centuryFromYear(year):\r\n",
        "  if 1 <= year <= 2005:\r\n",
        "    return int(math.ceil(year / 100.0))\r\n",
        "  else:\r\n",
        "    return \r\n",
        "\r\n",
        "print(centuryFromYear(2000))\r\n",
        "print(centuryFromYear(2006))"
      ],
      "execution_count": 5,
      "outputs": [
        {
          "output_type": "stream",
          "text": [
            "20\n",
            "None\n"
          ],
          "name": "stdout"
        }
      ]
    },
    {
      "cell_type": "markdown",
      "metadata": {
        "id": "0BrKQfSwELA_"
      },
      "source": [
        "**Task 3 - Check palindrome:** Given the string, check if it is a palindrome. For example, for inputString = \"aabaa\", the output should be checkPalindrome(inputString) = true;\r\n",
        "\r\n",
        "For inputString = \"abac\", the output should be checkPalindrome(inputString) = false;\r\n",
        "\r\n",
        "For inputString = \"a\", the output should be checkPalindrome(inputString) = true.\r\n",
        "\r\n",
        "**[input]** - string **[output]** - boolean"
      ]
    },
    {
      "cell_type": "code",
      "metadata": {
        "colab": {
          "base_uri": "https://localhost:8080/"
        },
        "id": "IPscDkhbELNX",
        "outputId": "da7f4546-d361-4c5b-ab9a-89a885b4b691"
      },
      "source": [
        "def checkPalindrome(inputString):\r\n",
        "  if inputString[::-1] == inputString:\r\n",
        "    return True\r\n",
        "  else:\r\n",
        "    return False\r\n",
        "\r\n",
        "print(checkPalindrome(\"Hello\"))\r\n",
        "print(checkPalindrome(\"racecar\"))"
      ],
      "execution_count": 6,
      "outputs": [
        {
          "output_type": "stream",
          "text": [
            "False\n",
            "True\n"
          ],
          "name": "stdout"
        }
      ]
    },
    {
      "cell_type": "markdown",
      "metadata": {
        "id": "_YOuohPRJf_R"
      },
      "source": [
        "## ***EDGE OF THE OCEAN***"
      ]
    },
    {
      "cell_type": "markdown",
      "metadata": {
        "id": "dnBVw2j2ELR5"
      },
      "source": [
        "**Task 4 - Adjacent elements product:** Given an array of integers, find the pair of adjacent elements that has the largest product and return that product.\r\n",
        "\r\n",
        "For example, for inputArray = [3, 6, -2, -5, 7, 3], the output should be adjacentElementsProduct(inputArray) = 21.\r\n",
        "\r\n",
        "7 and 3 produce the largest product.\r\n",
        "\r\n",
        "**[input]** - array **[output]** - integer"
      ]
    },
    {
      "cell_type": "code",
      "metadata": {
        "colab": {
          "base_uri": "https://localhost:8080/"
        },
        "id": "Nt4IshLfELV6",
        "outputId": "31019f38-524e-468b-c563-45a536ae9718"
      },
      "source": [
        "def adjacentElementsProduct(inputArray):\r\n",
        "  numbers = [inputArray[i] * inputArray[i + 1] for i in range(len(inputArray) - 1)]\r\n",
        "  return max(numbers)\r\n",
        "\r\n",
        "print(adjacentElementsProduct([2,3,4,5]))\r\n",
        "print(adjacentElementsProduct([1,1,1,2]))"
      ],
      "execution_count": 8,
      "outputs": [
        {
          "output_type": "stream",
          "text": [
            "20\n",
            "2\n"
          ],
          "name": "stdout"
        }
      ]
    },
    {
      "cell_type": "markdown",
      "metadata": {
        "id": "Oy77NkvsELZK"
      },
      "source": [
        "**Task 5 - Shape area:** Your task is to find the area of a polygon for a given n. A 1-interesting polygon is just a square with a side of length 1. An n-interesting polygon is obtained by taking the n - 1-interesting polygon and appending 1-interesting polygons to its rim, side by side. You can see the 1-, 2-, 3- and 4 - interesting polygons in the picture below.\r\n",
        "\r\n",
        "![shape.PNG](data:image/png;base64,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)\r\n",
        "\r\n",
        "For example, for n = 2, the output should be shapeArea(n) = 5; and for n = 3, the output should be shapeArea(n) = 13.\r\n",
        "\r\n",
        "**[input]** - integer **[output]** - integer"
      ]
    },
    {
      "cell_type": "code",
      "metadata": {
        "id": "ygqp9wbxELcS"
      },
      "source": [
        "def shapeArea(n):\r\n",
        "  if n == 1:\r\n",
        "    return 1\r\n",
        "  else:\r\n",
        "    return (n * n) + ((n - 1) * (n - 1))"
      ],
      "execution_count": null,
      "outputs": []
    },
    {
      "cell_type": "markdown",
      "metadata": {
        "id": "N83l9nJOJn5N"
      },
      "source": [
        "**Task 6 - Make array consecutive 2:** Ratiorg got statues of different sizes as a present from CodeMaster for his birthday, each statue having an non-negative integer size. Since he likes to make things perfect, he wants to arrange them from smallest to largest so that each statue will be bigger than the previous one exactly by 1. He may need some additional statues to be able to accomplish that. Help him figure out the minimum number of additional statues needed.\r\n",
        "\r\n",
        "For statues = [6, 2, 3, 8], the output should be makeArrayConsecutive2(statues) = 3. Ratiorg needs statues of sizes 4, 5 and 7.\r\n",
        "\r\n",
        "**[input]** - array.integer **[output]** - integer"
      ]
    },
    {
      "cell_type": "code",
      "metadata": {
        "id": "TGMOjDd6JneJ"
      },
      "source": [
        "def makeArrayConsecutive2(statues):\r\n",
        "  minValue = min(statues)\r\n",
        "  maxValue = max(statues)"
      ],
      "execution_count": null,
      "outputs": []
    },
    {
      "cell_type": "markdown",
      "metadata": {
        "id": "3Dnutd34LJgm"
      },
      "source": [
        "## ***SMOOTH SAILING***"
      ]
    }
  ]
}