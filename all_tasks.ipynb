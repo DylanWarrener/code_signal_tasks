{
  "nbformat": 4,
  "nbformat_minor": 0,
  "metadata": {
    "colab": {
      "name": "Untitled0.ipynb",
      "provenance": [],
      "authorship_tag": "ABX9TyOJ7RwOW9bBZC6gmQ0ZQSuV",
      "include_colab_link": true
    },
    "kernelspec": {
      "name": "python3",
      "display_name": "Python 3"
    }
  },
  "cells": [
    {
      "cell_type": "markdown",
      "metadata": {
        "id": "view-in-github",
        "colab_type": "text"
      },
      "source": [
        "<a href=\"https://colab.research.google.com/github/DylanWarrener/python_tasks/blob/master/all_tasks.ipynb\" target=\"_parent\"><img src=\"https://colab.research.google.com/assets/colab-badge.svg\" alt=\"Open In Colab\"/></a>"
      ]
    },
    {
      "cell_type": "markdown",
      "metadata": {
        "id": "871ti2bBBtzC"
      },
      "source": [
        "This is where the infor will go"
      ]
    },
    {
      "cell_type": "code",
      "metadata": {
        "id": "MvXAnJd4DEVr"
      },
      "source": [
        "# This is python\r\n",
        "def test():\r\n",
        "  return"
      ],
      "execution_count": null,
      "outputs": []
    }
  ]
}