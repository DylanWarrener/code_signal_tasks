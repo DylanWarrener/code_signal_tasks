{
  "nbformat": 4,
  "nbformat_minor": 0,
  "metadata": {
    "colab": {
      "name": "python_intro.ipynb",
      "provenance": [],
      "authorship_tag": "ABX9TyOMNPj8TjgYTqwlGCtODCZr",
      "include_colab_link": true
    },
    "kernelspec": {
      "name": "python3",
      "display_name": "Python 3"
    }
  },
  "cells": [
    {
      "cell_type": "markdown",
      "metadata": {
        "id": "view-in-github",
        "colab_type": "text"
      },
      "source": [
        "<a href=\"https://colab.research.google.com/github/DylanWarrener/python_tasks/blob/master/python_intro.ipynb\" target=\"_parent\"><img src=\"https://colab.research.google.com/assets/colab-badge.svg\" alt=\"Open In Colab\"/></a>"
      ]
    },
    {
      "cell_type": "markdown",
      "metadata": {
        "id": "871ti2bBBtzC"
      },
      "source": [
        "**Task 1:** Write a function that returns the sum of two numbers. For example, for param1 = 1 and param2 = 2, the output should be add(param1, param2) = 3.\r\n",
        "\r\n",
        "**[input]** - integer \r\n",
        "**[output]** - integer"
      ]
    },
    {
      "cell_type": "code",
      "metadata": {
        "id": "MvXAnJd4DEVr"
      },
      "source": [
        "# This is python\r\n",
        "def test():\r\n",
        "  return"
      ],
      "execution_count": null,
      "outputs": []
    },
    {
      "cell_type": "markdown",
      "metadata": {
        "id": "v0d1ZLl0EKxf"
      },
      "source": [
        "**Task 2:** Given a year, return the century it is in. The first century spans from the year 1 up to and including the year 100, the second - from the year 101 up to and including the year 200, etc. \r\n",
        "\r\n",
        "For example, for year = 1905, the output should be centuryFromYear(year) = 20; For year = 1700, the output should be centuryFromYear(year) = 17.\r\n",
        "\r\n",
        "**[input]** - integer **[output]** - integer"
      ]
    },
    {
      "cell_type": "code",
      "metadata": {
        "id": "iDNYnp2jEK71"
      },
      "source": [
        ""
      ],
      "execution_count": null,
      "outputs": []
    },
    {
      "cell_type": "markdown",
      "metadata": {
        "id": "0BrKQfSwELA_"
      },
      "source": [
        "**Task 3:** Given the string, check if it is a palindrome. For example, for inputString = \"aabaa\", the output should be checkPalindrome(inputString) = true;\r\n",
        "\r\n",
        "For inputString = \"abac\", the output should be checkPalindrome(inputString) = false;\r\n",
        "\r\n",
        "For inputString = \"a\", the output should be checkPalindrome(inputString) = true.\r\n",
        "\r\n",
        "**[input]** - string **[output]** - boolean"
      ]
    },
    {
      "cell_type": "code",
      "metadata": {
        "id": "IPscDkhbELNX"
      },
      "source": [
        ""
      ],
      "execution_count": null,
      "outputs": []
    },
    {
      "cell_type": "markdown",
      "metadata": {
        "id": "dnBVw2j2ELR5"
      },
      "source": [
        "**Task 4:** Given an array of integers, find the pair of adjacent elements that has the largest product and return that product.\r\n",
        "\r\n",
        "For example, for inputArray = [3, 6, -2, -5, 7, 3], the output should be adjacentElementsProduct(inputArray) = 21.\r\n",
        "\r\n",
        "7 and 3 produce the largest product.\r\n",
        "\r\n",
        "**[input]** - array **[output]** - integer"
      ]
    },
    {
      "cell_type": "code",
      "metadata": {
        "id": "Nt4IshLfELV6"
      },
      "source": [
        ""
      ],
      "execution_count": null,
      "outputs": []
    },
    {
      "cell_type": "markdown",
      "metadata": {
        "id": "Oy77NkvsELZK"
      },
      "source": [
        "**Task 5:** Your task is to find the area of a polygon for a given n. A 1-interesting polygon is just a square with a side of length 1. An n-interesting polygon is obtained by taking the n - 1-interesting polygon and appending 1-interesting polygons to its rim, side by side. You can see the 1-, 2-, 3- and 4 - interesting polygons in the picture below.\r\n",
        "\r\n",
        "For example, for n = 2, the output should be shapeArea(n) = 5; and for n = 3, the output should be shapeArea(n) = 13.\r\n",
        "\r\n",
        "**[input]** - integer **[output]** - integer"
      ]
    },
    {
      "cell_type": "code",
      "metadata": {
        "id": "ygqp9wbxELcS"
      },
      "source": [
        ""
      ],
      "execution_count": null,
      "outputs": []
    }
  ]
}